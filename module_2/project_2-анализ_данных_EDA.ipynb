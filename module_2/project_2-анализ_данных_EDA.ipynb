{
 "cells": [
  {
   "cell_type": "markdown",
   "metadata": {},
   "source": [
    "**Описание датасета**\n",
    "Данные, которые содержит датасет:\n",
    "\n",
    "1. school — аббревиатура школы, в которой учится ученик\n",
    "2. sex — пол ученика ('F' - женский, 'M' - мужской)\n",
    "3. age — возраст ученика (от 15 до 22)\n",
    "4. address — тип адреса ученика ('U' - городской, 'R' - за городом)\n",
    "5. famsize — размер семьи('LE3' <= 3, 'GT3' >3)\n",
    "6. Pstatus — статус совместного жилья родителей ('T' - живут вместе 'A' - раздельно)\n",
    "7. Medu — образование матери (0 - нет, 1 - 4 класса, 2 - 5-9 классы, 3 - среднее специальное или 11 классов, 4 - высшее)\n",
    "8. Fedu — образование отца (0 - нет, 1 - 4 класса, 2 - 5-9 классы, 3 - среднее специальное или 11 классов, 4 - высшее)\n",
    "9. Mjob — работа матери ('teacher' - учитель, 'health' - сфера здравоохранения, 'services' - гос служба, 'at_home' - не работает, 'other' - другое)\n",
    "10. Fjob — работа отца ('teacher' - учитель, 'health' - сфера здравоохранения, 'services' - гос служба, 'at_home' - не работает, 'other' - другое)\n",
    "11. reason — причина выбора школы ('home' - близость к дому, 'reputation' - репутация школы, 'course' - образовательная программа, 'other' - другое)\n",
    "12. guardian — опекун ('mother' - мать, 'father' - отец, 'other' - другое)\n",
    "13. traveltime — время в пути до школы (1 - <15 мин., 2 - 15-30 мин., 3 - 30-60 мин., 4 - >60 мин.)\n",
    "14. studytime — время на учёбу помимо школы в неделю (1 - <2 часов, 2 - 2-5 часов, 3 - 5-10 часов, 4 - >10 часов)\n",
    "15. failures — количество внеучебных неудач (n, если 1<=n<=3, иначе 0)\n",
    "16. schoolsup — дополнительная образовательная поддержка (yes или no)\n",
    "17. famsup — семейная образовательная поддержка (yes или no)\n",
    "18. paid — дополнительные платные занятия по математике (yes или no)\n",
    "19. activities — дополнительные внеучебные занятия (yes или no)\n",
    "20. nursery — посещал детский сад (yes или no)\n",
    "21. higher — хочет получить высшее образование (yes или no)\n",
    "22. internet — наличие интернета дома (yes или no)\n",
    "23. romantic — в романтических отношениях (yes или no)\n",
    "24. famrel — семейные отношения (от 1 - очень плохо до 5 - очень хорошо)\n",
    "25. freetime — свободное время после школы (от 1 - очень мало до 5 - очень мого)\n",
    "26. goout — проведение времени с друзьями (от 1 - очень мало до 5 - очень много)\n",
    "27. health — текущее состояние здоровья (от 1 - очень плохо до 5 - очень хорошо)\n",
    "28. absences — количество пропущенных занятий\n",
    "29. score — баллы по госэкзамену по математике"
   ]
  },
  {
   "cell_type": "code",
   "execution_count": 1,
   "metadata": {},
   "outputs": [],
   "source": [
    "# import of required libraries\n",
    "import pandas as pd\n",
    "import math\n",
    "#import matplotlib.pyplot as plt\n",
    "import seaborn as sns\n",
    "import numpy as np\n",
    "#from itertools import combinations\n",
    "#from scipy.stats import ttest_ind"
   ]
  },
  {
   "cell_type": "code",
   "execution_count": 2,
   "metadata": {},
   "outputs": [],
   "source": [
    "# Функция заполнения пропущенных значений\n",
    "# Функция принимает на вход датафрейм df и необязательный перечень колонок в которых будут производится замены.\n",
    "# Если список колонок не передавать, замена будет производиться по всем колонкам датафрейма.\n",
    "# и необязательный параметр func - функция с помощью которой будет производится замена:\n",
    "# По умолчанию auto - для числовых применяется median(), для не числовых - mode()\n",
    "# median - независимо от типа данных применяется median()\n",
    "# mode - независимо от типа данных применяется mode()\n",
    "# Функция возвращает датафрейм с заполнеными пропусками.\n",
    "# Пример вызова: df = fill_nan(df, 'column1', 'column2') или df = fill_nan(df)\n",
    "\n",
    "def fill_nan(df, *args, func='auto'):\n",
    "    if len(args) == 0:\n",
    "        column = df.columns\n",
    "    else:\n",
    "        colum = args\n",
    "    for col in colum:\n",
    "        if (np.dtype(df[col]) == float) or (np.dtype(df[col]) == int):\n",
    "            if (func == 'auto') | (func == 'median'):\n",
    "                df[col] = df[col].apply(lambda x: df[col].median() if np.isnan(x) else x)\n",
    "            else:\n",
    "                df[col] = df[col].apply(lambda x: df[col].mode()[0] if np.isnan(x) else x)\n",
    "        elif np.dtype(df[col]) == object:\n",
    "            if (func == 'auto') | (func == 'mode'):\n",
    "                df[col] = df[col].fillna(df[col].mode()[0])\n",
    "            else:\n",
    "                df[col] = df[col].fillna(df[col].median())\n",
    "    return df"
   ]
  },
  {
   "cell_type": "code",
   "execution_count": 3,
   "metadata": {},
   "outputs": [],
   "source": [
    "pd.set_option('display.max_rows', 50) # показывать больше строк\n",
    "pd.set_option('display.max_columns', 40) # показывать больше колонок"
   ]
  },
  {
   "cell_type": "code",
   "execution_count": 4,
   "metadata": {},
   "outputs": [
    {
     "data": {
      "text/html": [
       "<div>\n",
       "<style scoped>\n",
       "    .dataframe tbody tr th:only-of-type {\n",
       "        vertical-align: middle;\n",
       "    }\n",
       "\n",
       "    .dataframe tbody tr th {\n",
       "        vertical-align: top;\n",
       "    }\n",
       "\n",
       "    .dataframe thead th {\n",
       "        text-align: right;\n",
       "    }\n",
       "</style>\n",
       "<table border=\"1\" class=\"dataframe\">\n",
       "  <thead>\n",
       "    <tr style=\"text-align: right;\">\n",
       "      <th></th>\n",
       "      <th>school</th>\n",
       "      <th>sex</th>\n",
       "      <th>age</th>\n",
       "      <th>address</th>\n",
       "      <th>famsize</th>\n",
       "      <th>Pstatus</th>\n",
       "      <th>Medu</th>\n",
       "      <th>Fedu</th>\n",
       "      <th>Mjob</th>\n",
       "      <th>Fjob</th>\n",
       "      <th>reason</th>\n",
       "      <th>guardian</th>\n",
       "      <th>traveltime</th>\n",
       "      <th>studytime</th>\n",
       "      <th>failures</th>\n",
       "      <th>schoolsup</th>\n",
       "      <th>famsup</th>\n",
       "      <th>paid</th>\n",
       "      <th>activities</th>\n",
       "      <th>nursery</th>\n",
       "      <th>studytime, granular</th>\n",
       "      <th>higher</th>\n",
       "      <th>internet</th>\n",
       "      <th>romantic</th>\n",
       "      <th>famrel</th>\n",
       "      <th>freetime</th>\n",
       "      <th>goout</th>\n",
       "      <th>health</th>\n",
       "      <th>absences</th>\n",
       "      <th>score</th>\n",
       "    </tr>\n",
       "  </thead>\n",
       "  <tbody>\n",
       "    <tr>\n",
       "      <th>0</th>\n",
       "      <td>GP</td>\n",
       "      <td>F</td>\n",
       "      <td>18</td>\n",
       "      <td>U</td>\n",
       "      <td>NaN</td>\n",
       "      <td>A</td>\n",
       "      <td>4.0</td>\n",
       "      <td>4.0</td>\n",
       "      <td>at_home</td>\n",
       "      <td>teacher</td>\n",
       "      <td>course</td>\n",
       "      <td>mother</td>\n",
       "      <td>2.0</td>\n",
       "      <td>2.0</td>\n",
       "      <td>0.0</td>\n",
       "      <td>yes</td>\n",
       "      <td>no</td>\n",
       "      <td>no</td>\n",
       "      <td>no</td>\n",
       "      <td>yes</td>\n",
       "      <td>-6.0</td>\n",
       "      <td>yes</td>\n",
       "      <td>NaN</td>\n",
       "      <td>no</td>\n",
       "      <td>4.0</td>\n",
       "      <td>3.0</td>\n",
       "      <td>4.0</td>\n",
       "      <td>3.0</td>\n",
       "      <td>6.0</td>\n",
       "      <td>30.0</td>\n",
       "    </tr>\n",
       "    <tr>\n",
       "      <th>1</th>\n",
       "      <td>GP</td>\n",
       "      <td>F</td>\n",
       "      <td>17</td>\n",
       "      <td>U</td>\n",
       "      <td>GT3</td>\n",
       "      <td>NaN</td>\n",
       "      <td>1.0</td>\n",
       "      <td>1.0</td>\n",
       "      <td>at_home</td>\n",
       "      <td>other</td>\n",
       "      <td>course</td>\n",
       "      <td>father</td>\n",
       "      <td>1.0</td>\n",
       "      <td>2.0</td>\n",
       "      <td>0.0</td>\n",
       "      <td>no</td>\n",
       "      <td>yes</td>\n",
       "      <td>no</td>\n",
       "      <td>no</td>\n",
       "      <td>no</td>\n",
       "      <td>-6.0</td>\n",
       "      <td>yes</td>\n",
       "      <td>yes</td>\n",
       "      <td>no</td>\n",
       "      <td>5.0</td>\n",
       "      <td>3.0</td>\n",
       "      <td>3.0</td>\n",
       "      <td>3.0</td>\n",
       "      <td>4.0</td>\n",
       "      <td>30.0</td>\n",
       "    </tr>\n",
       "    <tr>\n",
       "      <th>2</th>\n",
       "      <td>GP</td>\n",
       "      <td>F</td>\n",
       "      <td>15</td>\n",
       "      <td>U</td>\n",
       "      <td>LE3</td>\n",
       "      <td>T</td>\n",
       "      <td>1.0</td>\n",
       "      <td>1.0</td>\n",
       "      <td>at_home</td>\n",
       "      <td>other</td>\n",
       "      <td>other</td>\n",
       "      <td>mother</td>\n",
       "      <td>1.0</td>\n",
       "      <td>2.0</td>\n",
       "      <td>3.0</td>\n",
       "      <td>yes</td>\n",
       "      <td>no</td>\n",
       "      <td>NaN</td>\n",
       "      <td>no</td>\n",
       "      <td>yes</td>\n",
       "      <td>-6.0</td>\n",
       "      <td>yes</td>\n",
       "      <td>yes</td>\n",
       "      <td>NaN</td>\n",
       "      <td>4.0</td>\n",
       "      <td>3.0</td>\n",
       "      <td>2.0</td>\n",
       "      <td>3.0</td>\n",
       "      <td>10.0</td>\n",
       "      <td>50.0</td>\n",
       "    </tr>\n",
       "    <tr>\n",
       "      <th>3</th>\n",
       "      <td>GP</td>\n",
       "      <td>F</td>\n",
       "      <td>15</td>\n",
       "      <td>U</td>\n",
       "      <td>GT3</td>\n",
       "      <td>T</td>\n",
       "      <td>4.0</td>\n",
       "      <td>2.0</td>\n",
       "      <td>health</td>\n",
       "      <td>NaN</td>\n",
       "      <td>home</td>\n",
       "      <td>mother</td>\n",
       "      <td>1.0</td>\n",
       "      <td>3.0</td>\n",
       "      <td>0.0</td>\n",
       "      <td>no</td>\n",
       "      <td>yes</td>\n",
       "      <td>yes</td>\n",
       "      <td>yes</td>\n",
       "      <td>yes</td>\n",
       "      <td>-9.0</td>\n",
       "      <td>yes</td>\n",
       "      <td>yes</td>\n",
       "      <td>yes</td>\n",
       "      <td>3.0</td>\n",
       "      <td>2.0</td>\n",
       "      <td>2.0</td>\n",
       "      <td>5.0</td>\n",
       "      <td>2.0</td>\n",
       "      <td>75.0</td>\n",
       "    </tr>\n",
       "    <tr>\n",
       "      <th>4</th>\n",
       "      <td>GP</td>\n",
       "      <td>F</td>\n",
       "      <td>16</td>\n",
       "      <td>U</td>\n",
       "      <td>GT3</td>\n",
       "      <td>T</td>\n",
       "      <td>3.0</td>\n",
       "      <td>3.0</td>\n",
       "      <td>other</td>\n",
       "      <td>other</td>\n",
       "      <td>home</td>\n",
       "      <td>father</td>\n",
       "      <td>1.0</td>\n",
       "      <td>2.0</td>\n",
       "      <td>0.0</td>\n",
       "      <td>no</td>\n",
       "      <td>yes</td>\n",
       "      <td>yes</td>\n",
       "      <td>no</td>\n",
       "      <td>yes</td>\n",
       "      <td>-6.0</td>\n",
       "      <td>yes</td>\n",
       "      <td>no</td>\n",
       "      <td>no</td>\n",
       "      <td>4.0</td>\n",
       "      <td>3.0</td>\n",
       "      <td>2.0</td>\n",
       "      <td>5.0</td>\n",
       "      <td>4.0</td>\n",
       "      <td>50.0</td>\n",
       "    </tr>\n",
       "    <tr>\n",
       "      <th>...</th>\n",
       "      <td>...</td>\n",
       "      <td>...</td>\n",
       "      <td>...</td>\n",
       "      <td>...</td>\n",
       "      <td>...</td>\n",
       "      <td>...</td>\n",
       "      <td>...</td>\n",
       "      <td>...</td>\n",
       "      <td>...</td>\n",
       "      <td>...</td>\n",
       "      <td>...</td>\n",
       "      <td>...</td>\n",
       "      <td>...</td>\n",
       "      <td>...</td>\n",
       "      <td>...</td>\n",
       "      <td>...</td>\n",
       "      <td>...</td>\n",
       "      <td>...</td>\n",
       "      <td>...</td>\n",
       "      <td>...</td>\n",
       "      <td>...</td>\n",
       "      <td>...</td>\n",
       "      <td>...</td>\n",
       "      <td>...</td>\n",
       "      <td>...</td>\n",
       "      <td>...</td>\n",
       "      <td>...</td>\n",
       "      <td>...</td>\n",
       "      <td>...</td>\n",
       "      <td>...</td>\n",
       "    </tr>\n",
       "    <tr>\n",
       "      <th>390</th>\n",
       "      <td>MS</td>\n",
       "      <td>M</td>\n",
       "      <td>20</td>\n",
       "      <td>U</td>\n",
       "      <td>LE3</td>\n",
       "      <td>A</td>\n",
       "      <td>2.0</td>\n",
       "      <td>2.0</td>\n",
       "      <td>services</td>\n",
       "      <td>services</td>\n",
       "      <td>course</td>\n",
       "      <td>NaN</td>\n",
       "      <td>1.0</td>\n",
       "      <td>2.0</td>\n",
       "      <td>2.0</td>\n",
       "      <td>no</td>\n",
       "      <td>yes</td>\n",
       "      <td>yes</td>\n",
       "      <td>no</td>\n",
       "      <td>yes</td>\n",
       "      <td>-6.0</td>\n",
       "      <td>yes</td>\n",
       "      <td>no</td>\n",
       "      <td>no</td>\n",
       "      <td>5.0</td>\n",
       "      <td>5.0</td>\n",
       "      <td>4.0</td>\n",
       "      <td>4.0</td>\n",
       "      <td>212.0</td>\n",
       "      <td>45.0</td>\n",
       "    </tr>\n",
       "    <tr>\n",
       "      <th>391</th>\n",
       "      <td>MS</td>\n",
       "      <td>M</td>\n",
       "      <td>17</td>\n",
       "      <td>U</td>\n",
       "      <td>LE3</td>\n",
       "      <td>T</td>\n",
       "      <td>3.0</td>\n",
       "      <td>1.0</td>\n",
       "      <td>services</td>\n",
       "      <td>services</td>\n",
       "      <td>course</td>\n",
       "      <td>mother</td>\n",
       "      <td>2.0</td>\n",
       "      <td>1.0</td>\n",
       "      <td>0.0</td>\n",
       "      <td>no</td>\n",
       "      <td>no</td>\n",
       "      <td>no</td>\n",
       "      <td>no</td>\n",
       "      <td>no</td>\n",
       "      <td>-3.0</td>\n",
       "      <td>yes</td>\n",
       "      <td>yes</td>\n",
       "      <td>no</td>\n",
       "      <td>2.0</td>\n",
       "      <td>4.0</td>\n",
       "      <td>5.0</td>\n",
       "      <td>2.0</td>\n",
       "      <td>3.0</td>\n",
       "      <td>80.0</td>\n",
       "    </tr>\n",
       "    <tr>\n",
       "      <th>392</th>\n",
       "      <td>MS</td>\n",
       "      <td>M</td>\n",
       "      <td>21</td>\n",
       "      <td>R</td>\n",
       "      <td>GT3</td>\n",
       "      <td>T</td>\n",
       "      <td>1.0</td>\n",
       "      <td>1.0</td>\n",
       "      <td>other</td>\n",
       "      <td>other</td>\n",
       "      <td>course</td>\n",
       "      <td>NaN</td>\n",
       "      <td>1.0</td>\n",
       "      <td>1.0</td>\n",
       "      <td>3.0</td>\n",
       "      <td>NaN</td>\n",
       "      <td>no</td>\n",
       "      <td>no</td>\n",
       "      <td>no</td>\n",
       "      <td>no</td>\n",
       "      <td>-3.0</td>\n",
       "      <td>NaN</td>\n",
       "      <td>no</td>\n",
       "      <td>no</td>\n",
       "      <td>5.0</td>\n",
       "      <td>5.0</td>\n",
       "      <td>3.0</td>\n",
       "      <td>3.0</td>\n",
       "      <td>3.0</td>\n",
       "      <td>35.0</td>\n",
       "    </tr>\n",
       "    <tr>\n",
       "      <th>393</th>\n",
       "      <td>MS</td>\n",
       "      <td>M</td>\n",
       "      <td>18</td>\n",
       "      <td>R</td>\n",
       "      <td>LE3</td>\n",
       "      <td>T</td>\n",
       "      <td>3.0</td>\n",
       "      <td>2.0</td>\n",
       "      <td>services</td>\n",
       "      <td>other</td>\n",
       "      <td>course</td>\n",
       "      <td>mother</td>\n",
       "      <td>3.0</td>\n",
       "      <td>1.0</td>\n",
       "      <td>0.0</td>\n",
       "      <td>no</td>\n",
       "      <td>no</td>\n",
       "      <td>no</td>\n",
       "      <td>NaN</td>\n",
       "      <td>no</td>\n",
       "      <td>-3.0</td>\n",
       "      <td>yes</td>\n",
       "      <td>yes</td>\n",
       "      <td>no</td>\n",
       "      <td>4.0</td>\n",
       "      <td>4.0</td>\n",
       "      <td>1.0</td>\n",
       "      <td>5.0</td>\n",
       "      <td>0.0</td>\n",
       "      <td>50.0</td>\n",
       "    </tr>\n",
       "    <tr>\n",
       "      <th>394</th>\n",
       "      <td>MS</td>\n",
       "      <td>M</td>\n",
       "      <td>19</td>\n",
       "      <td>U</td>\n",
       "      <td>LE3</td>\n",
       "      <td>T</td>\n",
       "      <td>1.0</td>\n",
       "      <td>1.0</td>\n",
       "      <td>other</td>\n",
       "      <td>at_home</td>\n",
       "      <td>NaN</td>\n",
       "      <td>father</td>\n",
       "      <td>1.0</td>\n",
       "      <td>1.0</td>\n",
       "      <td>0.0</td>\n",
       "      <td>NaN</td>\n",
       "      <td>no</td>\n",
       "      <td>no</td>\n",
       "      <td>no</td>\n",
       "      <td>yes</td>\n",
       "      <td>-3.0</td>\n",
       "      <td>yes</td>\n",
       "      <td>yes</td>\n",
       "      <td>no</td>\n",
       "      <td>3.0</td>\n",
       "      <td>2.0</td>\n",
       "      <td>3.0</td>\n",
       "      <td>5.0</td>\n",
       "      <td>5.0</td>\n",
       "      <td>45.0</td>\n",
       "    </tr>\n",
       "  </tbody>\n",
       "</table>\n",
       "<p>395 rows × 30 columns</p>\n",
       "</div>"
      ],
      "text/plain": [
       "    school sex  age address famsize Pstatus  Medu  Fedu      Mjob      Fjob  \\\n",
       "0       GP   F   18       U     NaN       A   4.0   4.0   at_home   teacher   \n",
       "1       GP   F   17       U     GT3     NaN   1.0   1.0   at_home     other   \n",
       "2       GP   F   15       U     LE3       T   1.0   1.0   at_home     other   \n",
       "3       GP   F   15       U     GT3       T   4.0   2.0    health       NaN   \n",
       "4       GP   F   16       U     GT3       T   3.0   3.0     other     other   \n",
       "..     ...  ..  ...     ...     ...     ...   ...   ...       ...       ...   \n",
       "390     MS   M   20       U     LE3       A   2.0   2.0  services  services   \n",
       "391     MS   M   17       U     LE3       T   3.0   1.0  services  services   \n",
       "392     MS   M   21       R     GT3       T   1.0   1.0     other     other   \n",
       "393     MS   M   18       R     LE3       T   3.0   2.0  services     other   \n",
       "394     MS   M   19       U     LE3       T   1.0   1.0     other   at_home   \n",
       "\n",
       "     reason guardian  traveltime  studytime  failures schoolsup famsup paid  \\\n",
       "0    course   mother         2.0        2.0       0.0       yes     no   no   \n",
       "1    course   father         1.0        2.0       0.0        no    yes   no   \n",
       "2     other   mother         1.0        2.0       3.0       yes     no  NaN   \n",
       "3      home   mother         1.0        3.0       0.0        no    yes  yes   \n",
       "4      home   father         1.0        2.0       0.0        no    yes  yes   \n",
       "..      ...      ...         ...        ...       ...       ...    ...  ...   \n",
       "390  course      NaN         1.0        2.0       2.0        no    yes  yes   \n",
       "391  course   mother         2.0        1.0       0.0        no     no   no   \n",
       "392  course      NaN         1.0        1.0       3.0       NaN     no   no   \n",
       "393  course   mother         3.0        1.0       0.0        no     no   no   \n",
       "394     NaN   father         1.0        1.0       0.0       NaN     no   no   \n",
       "\n",
       "    activities nursery  studytime, granular higher internet romantic  famrel  \\\n",
       "0           no     yes                 -6.0    yes      NaN       no     4.0   \n",
       "1           no      no                 -6.0    yes      yes       no     5.0   \n",
       "2           no     yes                 -6.0    yes      yes      NaN     4.0   \n",
       "3          yes     yes                 -9.0    yes      yes      yes     3.0   \n",
       "4           no     yes                 -6.0    yes       no       no     4.0   \n",
       "..         ...     ...                  ...    ...      ...      ...     ...   \n",
       "390         no     yes                 -6.0    yes       no       no     5.0   \n",
       "391         no      no                 -3.0    yes      yes       no     2.0   \n",
       "392         no      no                 -3.0    NaN       no       no     5.0   \n",
       "393        NaN      no                 -3.0    yes      yes       no     4.0   \n",
       "394         no     yes                 -3.0    yes      yes       no     3.0   \n",
       "\n",
       "     freetime  goout  health  absences  score  \n",
       "0         3.0    4.0     3.0       6.0   30.0  \n",
       "1         3.0    3.0     3.0       4.0   30.0  \n",
       "2         3.0    2.0     3.0      10.0   50.0  \n",
       "3         2.0    2.0     5.0       2.0   75.0  \n",
       "4         3.0    2.0     5.0       4.0   50.0  \n",
       "..        ...    ...     ...       ...    ...  \n",
       "390       5.0    4.0     4.0     212.0   45.0  \n",
       "391       4.0    5.0     2.0       3.0   80.0  \n",
       "392       5.0    3.0     3.0       3.0   35.0  \n",
       "393       4.0    1.0     5.0       0.0   50.0  \n",
       "394       2.0    3.0     5.0       5.0   45.0  \n",
       "\n",
       "[395 rows x 30 columns]"
      ]
     },
     "metadata": {},
     "output_type": "display_data"
    },
    {
     "name": "stdout",
     "output_type": "stream",
     "text": [
      "<class 'pandas.core.frame.DataFrame'>\n",
      "RangeIndex: 395 entries, 0 to 394\n",
      "Data columns (total 30 columns):\n",
      " #   Column               Non-Null Count  Dtype  \n",
      "---  ------               --------------  -----  \n",
      " 0   school               395 non-null    object \n",
      " 1   sex                  395 non-null    object \n",
      " 2   age                  395 non-null    int64  \n",
      " 3   address              378 non-null    object \n",
      " 4   famsize              368 non-null    object \n",
      " 5   Pstatus              350 non-null    object \n",
      " 6   Medu                 392 non-null    float64\n",
      " 7   Fedu                 371 non-null    float64\n",
      " 8   Mjob                 376 non-null    object \n",
      " 9   Fjob                 359 non-null    object \n",
      " 10  reason               378 non-null    object \n",
      " 11  guardian             364 non-null    object \n",
      " 12  traveltime           367 non-null    float64\n",
      " 13  studytime            388 non-null    float64\n",
      " 14  failures             373 non-null    float64\n",
      " 15  schoolsup            386 non-null    object \n",
      " 16  famsup               356 non-null    object \n",
      " 17  paid                 355 non-null    object \n",
      " 18  activities           381 non-null    object \n",
      " 19  nursery              379 non-null    object \n",
      " 20  studytime, granular  388 non-null    float64\n",
      " 21  higher               375 non-null    object \n",
      " 22  internet             361 non-null    object \n",
      " 23  romantic             364 non-null    object \n",
      " 24  famrel               368 non-null    float64\n",
      " 25  freetime             384 non-null    float64\n",
      " 26  goout                387 non-null    float64\n",
      " 27  health               380 non-null    float64\n",
      " 28  absences             383 non-null    float64\n",
      " 29  score                389 non-null    float64\n",
      "dtypes: float64(12), int64(1), object(17)\n",
      "memory usage: 92.7+ KB\n"
     ]
    },
    {
     "data": {
      "text/plain": [
       "None"
      ]
     },
     "metadata": {},
     "output_type": "display_data"
    }
   ],
   "source": [
    "students = pd.read_csv(r'stud_math.xls')\n",
    "display(students)\n",
    "display(students.info())"
   ]
  },
  {
   "cell_type": "code",
   "execution_count": 5,
   "metadata": {},
   "outputs": [
    {
     "data": {
      "text/plain": [
       "<AxesSubplot:>"
      ]
     },
     "execution_count": 5,
     "metadata": {},
     "output_type": "execute_result"
    },
    {
     "data": {
      "image/png": "[encoded data removed]",
      "text/plain": [
       "<Figure size 432x288 with 2 Axes>"
      ]
     },
     "metadata": {
      "needs_background": "light"
     },
     "output_type": "display_data"
    }
   ],
   "source": [
    "sns.heatmap(students.isnull())"
   ]
  },
  {
   "cell_type": "markdown",
   "metadata": {},
   "source": [
    "Датасетсет содержит 395 строк данных  \n",
    "30 колонок показателей, \n",
    "из них 13 - числовых и 17 - строковых, но по сути только ___age, failures, absences___ - являются количественными,  \n",
    "остальные -  признаки.  \n",
    "Кроме ___school, sex, age___ все столбцы имеют пропуски данных  \n",
    "Столбец ___score___ является целевым"
   ]
  },
  {
   "cell_type": "markdown",
   "metadata": {},
   "source": [
    "Теперь рассмотрим все столбцы по отдельности  \n",
    "\n",
    "Начнем с числовых показателей"
   ]
  },
  {
   "cell_type": "markdown",
   "metadata": {},
   "source": [
    "# age\n",
    "\n",
    "Этот столбец числовой и без пропусков. Посмотрим на его распределение:"
   ]
  },
  {
   "cell_type": "code",
   "execution_count": 6,
   "metadata": {},
   "outputs": [
    {
     "data": {
      "text/plain": [
       "count    395.000000\n",
       "mean      16.696203\n",
       "std        1.276043\n",
       "min       15.000000\n",
       "25%       16.000000\n",
       "50%       17.000000\n",
       "75%       18.000000\n",
       "max       22.000000\n",
       "Name: age, dtype: float64"
      ]
     },
     "execution_count": 6,
     "metadata": {},
     "output_type": "execute_result"
    },
    {
     "data": {
      "image/png": "[encoded data removed]",
      "text/plain": [
       "<Figure size 432x288 with 1 Axes>"
      ]
     },
     "metadata": {
      "needs_background": "light"
     },
     "output_type": "display_data"
    }
   ],
   "source": [
    "students.age.hist(bins=len(students.age.unique()))\n",
    "students.age.describe()"
   ]
  },
  {
   "cell_type": "markdown",
   "metadata": {},
   "source": [
    "из распределения видно, что оно смещено вправо и молодых в возрасте 20 - 22 года очень мало, но так как задача стоит отследить влияние условий жизни учащихся в возрасте от 15 до 22, то эти значения не являются выбросом"
   ]
  },
  {
   "cell_type": "markdown",
   "metadata": {},
   "source": [
    "# failures\n",
    "\n",
    "Столбец содержит пропуски, заменим их медианой"
   ]
  },
  {
   "cell_type": "code",
   "execution_count": 7,
   "metadata": {},
   "outputs": [],
   "source": [
    "#display(students.failures.unique())"
   ]
  },
  {
   "cell_type": "code",
   "execution_count": 8,
   "metadata": {},
   "outputs": [
    {
     "name": "stdout",
     "output_type": "stream",
     "text": [
      "<class 'pandas.core.frame.DataFrame'>\n",
      "RangeIndex: 395 entries, 0 to 394\n",
      "Data columns (total 30 columns):\n",
      " #   Column               Non-Null Count  Dtype  \n",
      "---  ------               --------------  -----  \n",
      " 0   school               395 non-null    object \n",
      " 1   sex                  395 non-null    object \n",
      " 2   age                  395 non-null    int64  \n",
      " 3   address              378 non-null    object \n",
      " 4   famsize              368 non-null    object \n",
      " 5   Pstatus              350 non-null    object \n",
      " 6   Medu                 392 non-null    float64\n",
      " 7   Fedu                 371 non-null    float64\n",
      " 8   Mjob                 376 non-null    object \n",
      " 9   Fjob                 359 non-null    object \n",
      " 10  reason               378 non-null    object \n",
      " 11  guardian             364 non-null    object \n",
      " 12  traveltime           367 non-null    float64\n",
      " 13  studytime            388 non-null    float64\n",
      " 14  failures             395 non-null    float64\n",
      " 15  schoolsup            386 non-null    object \n",
      " 16  famsup               356 non-null    object \n",
      " 17  paid                 355 non-null    object \n",
      " 18  activities           381 non-null    object \n",
      " 19  nursery              379 non-null    object \n",
      " 20  studytime, granular  388 non-null    float64\n",
      " 21  higher               375 non-null    object \n",
      " 22  internet             361 non-null    object \n",
      " 23  romantic             364 non-null    object \n",
      " 24  famrel               368 non-null    float64\n",
      " 25  freetime             384 non-null    float64\n",
      " 26  goout                387 non-null    float64\n",
      " 27  health               380 non-null    float64\n",
      " 28  absences             383 non-null    float64\n",
      " 29  score                389 non-null    float64\n",
      "dtypes: float64(12), int64(1), object(17)\n",
      "memory usage: 92.7+ KB\n"
     ]
    },
    {
     "data": {
      "text/plain": [
       "None"
      ]
     },
     "metadata": {},
     "output_type": "display_data"
    }
   ],
   "source": [
    "students = fill_nan(students, 'failures')\n",
    "#students.failures = students.failures.apply(lambda x: students.failures.median() if np.isnan(x) else x)\n",
    "display(students.info())"
   ]
  },
  {
   "cell_type": "code",
   "execution_count": 9,
   "metadata": {},
   "outputs": [
    {
     "data": {
      "text/plain": [
       "count    395.000000\n",
       "mean       0.318987\n",
       "std        0.726244\n",
       "min        0.000000\n",
       "25%        0.000000\n",
       "50%        0.000000\n",
       "75%        0.000000\n",
       "max        3.000000\n",
       "Name: failures, dtype: float64"
      ]
     },
     "execution_count": 9,
     "metadata": {},
     "output_type": "execute_result"
    },
    {
     "data": {
      "image/png": "[encoded data removed]",
      "text/plain": [
       "<Figure size 432x288 with 1 Axes>"
      ]
     },
     "metadata": {
      "needs_background": "light"
     },
     "output_type": "display_data"
    }
   ],
   "source": [
    "students.failures.hist(bins=3)\n",
    "students.failures.describe()"
   ]
  },
  {
   "cell_type": "markdown",
   "metadata": {},
   "source": [
    "Несмотря на то, что явно видны выбросы, удалять их не будем так как это полезные данные"
   ]
  },
  {
   "cell_type": "markdown",
   "metadata": {},
   "source": [
    "# absences"
   ]
  },
  {
   "cell_type": "code",
   "execution_count": 10,
   "metadata": {},
   "outputs": [
    {
     "data": {
      "text/plain": [
       "count    383.000000\n",
       "mean       7.279373\n",
       "std       23.465197\n",
       "min        0.000000\n",
       "25%        0.000000\n",
       "50%        4.000000\n",
       "75%        8.000000\n",
       "max      385.000000\n",
       "Name: absences, dtype: float64"
      ]
     },
     "execution_count": 10,
     "metadata": {},
     "output_type": "execute_result"
    },
    {
     "data": {
      "image/png": "[encoded data removed]",
      "text/plain": [
       "<Figure size 432x288 with 1 Axes>"
      ]
     },
     "metadata": {
      "needs_background": "light"
     },
     "output_type": "display_data"
    }
   ],
   "source": [
    "students.absences.hist()\n",
    "students.absences.describe()"
   ]
  },
  {
   "cell_type": "markdown",
   "metadata": {},
   "source": [
    "Этот столбец содержит 12 пропущенных значений, в данной категории пустые значения заменим медианой.  \n",
    "Из распределения видны несколько значений >150, что явно противоречит логике - количество пропущенных занятий превышает количество самих занятий (150 - разумно предположимое количество занятий - 40 недель по 3-4 занятия в неделю (маткласс)), поэтому их удалим"
   ]
  },
  {
   "cell_type": "code",
   "execution_count": 11,
   "metadata": {},
   "outputs": [
    {
     "name": "stdout",
     "output_type": "stream",
     "text": [
      "<class 'pandas.core.frame.DataFrame'>\n",
      "Int64Index: 393 entries, 0 to 394\n",
      "Data columns (total 30 columns):\n",
      " #   Column               Non-Null Count  Dtype  \n",
      "---  ------               --------------  -----  \n",
      " 0   school               393 non-null    object \n",
      " 1   sex                  393 non-null    object \n",
      " 2   age                  393 non-null    int64  \n",
      " 3   address              376 non-null    object \n",
      " 4   famsize              366 non-null    object \n",
      " 5   Pstatus              348 non-null    object \n",
      " 6   Medu                 390 non-null    float64\n",
      " 7   Fedu                 369 non-null    float64\n",
      " 8   Mjob                 374 non-null    object \n",
      " 9   Fjob                 357 non-null    object \n",
      " 10  reason               376 non-null    object \n",
      " 11  guardian             363 non-null    object \n",
      " 12  traveltime           365 non-null    float64\n",
      " 13  studytime            386 non-null    float64\n",
      " 14  failures             393 non-null    float64\n",
      " 15  schoolsup            384 non-null    object \n",
      " 16  famsup               355 non-null    object \n",
      " 17  paid                 353 non-null    object \n",
      " 18  activities           379 non-null    object \n",
      " 19  nursery              377 non-null    object \n",
      " 20  studytime, granular  386 non-null    float64\n",
      " 21  higher               373 non-null    object \n",
      " 22  internet             359 non-null    object \n",
      " 23  romantic             362 non-null    object \n",
      " 24  famrel               366 non-null    float64\n",
      " 25  freetime             382 non-null    float64\n",
      " 26  goout                385 non-null    float64\n",
      " 27  health               378 non-null    float64\n",
      " 28  absences             393 non-null    float64\n",
      " 29  score                387 non-null    float64\n",
      "dtypes: float64(12), int64(1), object(17)\n",
      "memory usage: 95.2+ KB\n"
     ]
    },
    {
     "data": {
      "text/plain": [
       "None"
      ]
     },
     "metadata": {},
     "output_type": "display_data"
    }
   ],
   "source": [
    "students = fill_nan(students, 'absences')\n",
    "students = students.loc[students.absences <= 150]\n",
    "display(students.info())"
   ]
  },
  {
   "cell_type": "code",
   "execution_count": 12,
   "metadata": {},
   "outputs": [
    {
     "data": {
      "text/plain": [
       "count    393.000000\n",
       "mean       5.697201\n",
       "std        7.969484\n",
       "min        0.000000\n",
       "25%        0.000000\n",
       "50%        4.000000\n",
       "75%        8.000000\n",
       "max       75.000000\n",
       "Name: absences, dtype: float64"
      ]
     },
     "execution_count": 12,
     "metadata": {},
     "output_type": "execute_result"
    },
    {
     "data": {
      "image/png": "[encoded data removed]",
      "text/plain": [
       "<Figure size 432x288 with 1 Axes>"
      ]
     },
     "metadata": {
      "needs_background": "light"
     },
     "output_type": "display_data"
    }
   ],
   "source": [
    "students.absences.hist()\n",
    "students.absences.describe()"
   ]
  },
  {
   "cell_type": "markdown",
   "metadata": {},
   "source": [
    "В данных есть выбросы, но удалять их не будем, так как такое вполне вероятно (длительная болезнь) и такие данные потенциально полезные"
   ]
  },
  {
   "cell_type": "markdown",
   "metadata": {},
   "source": [
    "# score\n",
    "Столбец содержит пропуски, но так как это целевые данные заменять их не будем, просто удалим не информативные строки, их немного - 6"
   ]
  },
  {
   "cell_type": "code",
   "execution_count": 13,
   "metadata": {},
   "outputs": [
    {
     "name": "stdout",
     "output_type": "stream",
     "text": [
      "<class 'pandas.core.frame.DataFrame'>\n",
      "Int64Index: 387 entries, 0 to 394\n",
      "Data columns (total 30 columns):\n",
      " #   Column               Non-Null Count  Dtype  \n",
      "---  ------               --------------  -----  \n",
      " 0   school               387 non-null    object \n",
      " 1   sex                  387 non-null    object \n",
      " 2   age                  387 non-null    int64  \n",
      " 3   address              372 non-null    object \n",
      " 4   famsize              360 non-null    object \n",
      " 5   Pstatus              342 non-null    object \n",
      " 6   Medu                 384 non-null    float64\n",
      " 7   Fedu                 363 non-null    float64\n",
      " 8   Mjob                 368 non-null    object \n",
      " 9   Fjob                 351 non-null    object \n",
      " 10  reason               370 non-null    object \n",
      " 11  guardian             357 non-null    object \n",
      " 12  traveltime           359 non-null    float64\n",
      " 13  studytime            380 non-null    float64\n",
      " 14  failures             387 non-null    float64\n",
      " 15  schoolsup            378 non-null    object \n",
      " 16  famsup               350 non-null    object \n",
      " 17  paid                 348 non-null    object \n",
      " 18  activities           373 non-null    object \n",
      " 19  nursery              372 non-null    object \n",
      " 20  studytime, granular  380 non-null    float64\n",
      " 21  higher               367 non-null    object \n",
      " 22  internet             353 non-null    object \n",
      " 23  romantic             356 non-null    object \n",
      " 24  famrel               360 non-null    float64\n",
      " 25  freetime             378 non-null    float64\n",
      " 26  goout                380 non-null    float64\n",
      " 27  health               372 non-null    float64\n",
      " 28  absences             387 non-null    float64\n",
      " 29  score                387 non-null    float64\n",
      "dtypes: float64(12), int64(1), object(17)\n",
      "memory usage: 93.7+ KB\n"
     ]
    },
    {
     "data": {
      "text/plain": [
       "None"
      ]
     },
     "metadata": {},
     "output_type": "display_data"
    }
   ],
   "source": [
    "students = students.loc[~ np.isnan(students.score)]\n",
    "display(students.info())"
   ]
  },
  {
   "cell_type": "code",
   "execution_count": 14,
   "metadata": {},
   "outputs": [
    {
     "data": {
      "text/plain": [
       "count    387.000000\n",
       "mean      52.196382\n",
       "std       22.914748\n",
       "min        0.000000\n",
       "25%       40.000000\n",
       "50%       55.000000\n",
       "75%       70.000000\n",
       "max      100.000000\n",
       "Name: score, dtype: float64"
      ]
     },
     "execution_count": 14,
     "metadata": {},
     "output_type": "execute_result"
    },
    {
     "data": {
      "image/png": "[encoded data removed]",
      "text/plain": [
       "<Figure size 432x288 with 1 Axes>"
      ]
     },
     "metadata": {
      "needs_background": "light"
     },
     "output_type": "display_data"
    }
   ],
   "source": [
    "students.score.hist(bins=len(students.score.unique()))\n",
    "students.score.describe()"
   ]
  },
  {
   "cell_type": "markdown",
   "metadata": {},
   "source": [
    "Как видно данные выбросов не содержат и расположены в интервале от 0 до 100, что логично."
   ]
  },
  {
   "cell_type": "markdown",
   "metadata": {},
   "source": [
    "# Medu\n",
    "\n",
    "Несмотря на то, что столбец числовой эти данные носят категориальный характер, поэтому пропущенные данные восстановим наиболее часто встречающимися"
   ]
  },
  {
   "cell_type": "code",
   "execution_count": 31,
   "metadata": {},
   "outputs": [
    {
     "data": {
      "text/plain": [
       "<AxesSubplot:>"
      ]
     },
     "execution_count": 31,
     "metadata": {},
     "output_type": "execute_result"
    },
    {
     "data": {
      "image/png": "[encoded data removed]",
      "text/plain": [
       "<Figure size 432x288 with 1 Axes>"
      ]
     },
     "metadata": {
      "needs_background": "light"
     },
     "output_type": "display_data"
    }
   ],
   "source": [
    "students = fill_nan(students, 'Medu', func='mode')\n",
    "#display(students.info())\n",
    "students.Medu.hist(bins=int(1+3.322*math.log10(len(students.Medu))))"
   ]
  },
  {
   "cell_type": "markdown",
   "metadata": {},
   "source": [
    "Распределение без выбросов и соответствует ожидаемому"
   ]
  },
  {
   "cell_type": "markdown",
   "metadata": {},
   "source": [
    "# Fedu\n",
    "\n",
    "Несмотря на то, что столбец числовой эти данные носят категориальный характер, поэтому пропущенные данные восстановим наиболее часто встречающимися"
   ]
  },
  {
   "cell_type": "code",
   "execution_count": 20,
   "metadata": {},
   "outputs": [
    {
     "name": "stdout",
     "output_type": "stream",
     "text": [
      "<class 'pandas.core.frame.DataFrame'>\n",
      "Int64Index: 387 entries, 0 to 394\n",
      "Data columns (total 30 columns):\n",
      " #   Column               Non-Null Count  Dtype  \n",
      "---  ------               --------------  -----  \n",
      " 0   school               387 non-null    object \n",
      " 1   sex                  387 non-null    object \n",
      " 2   age                  387 non-null    int64  \n",
      " 3   address              372 non-null    object \n",
      " 4   famsize              360 non-null    object \n",
      " 5   Pstatus              342 non-null    object \n",
      " 6   Medu                 387 non-null    float64\n",
      " 7   Fedu                 387 non-null    float64\n",
      " 8   Mjob                 368 non-null    object \n",
      " 9   Fjob                 351 non-null    object \n",
      " 10  reason               370 non-null    object \n",
      " 11  guardian             357 non-null    object \n",
      " 12  traveltime           359 non-null    float64\n",
      " 13  studytime            380 non-null    float64\n",
      " 14  failures             387 non-null    float64\n",
      " 15  schoolsup            378 non-null    object \n",
      " 16  famsup               350 non-null    object \n",
      " 17  paid                 348 non-null    object \n",
      " 18  activities           373 non-null    object \n",
      " 19  nursery              372 non-null    object \n",
      " 20  studytime, granular  380 non-null    float64\n",
      " 21  higher               367 non-null    object \n",
      " 22  internet             353 non-null    object \n",
      " 23  romantic             356 non-null    object \n",
      " 24  famrel               360 non-null    float64\n",
      " 25  freetime             378 non-null    float64\n",
      " 26  goout                380 non-null    float64\n",
      " 27  health               372 non-null    float64\n",
      " 28  absences             387 non-null    float64\n",
      " 29  score                387 non-null    float64\n",
      "dtypes: float64(12), int64(1), object(17)\n",
      "memory usage: 93.7+ KB\n"
     ]
    },
    {
     "data": {
      "text/plain": [
       "None"
      ]
     },
     "metadata": {},
     "output_type": "display_data"
    },
    {
     "data": {
      "text/plain": [
       "2.0     128\n",
       "3.0      93\n",
       "4.0      88\n",
       "1.0      75\n",
       "0.0       2\n",
       "40.0      1\n",
       "Name: Fedu, dtype: int64"
      ]
     },
     "metadata": {},
     "output_type": "display_data"
    },
    {
     "data": {
      "image/png": "[encoded data removed]",
      "text/plain": [
       "<Figure size 432x288 with 1 Axes>"
      ]
     },
     "metadata": {
      "needs_background": "light"
     },
     "output_type": "display_data"
    }
   ],
   "source": [
    "students = fill_nan(students, 'Fedu', func='mode')\n",
    "#display(students.info())\n",
    "students.Fedu.hist(bins=4)\n",
    "display(students.Fedu.value_counts())"
   ]
  },
  {
   "cell_type": "markdown",
   "metadata": {},
   "source": [
    "Имеется ошибочное значение, оно одно поэтому его удалим"
   ]
  },
  {
   "cell_type": "code",
   "execution_count": 30,
   "metadata": {},
   "outputs": [
    {
     "data": {
      "text/plain": [
       "2.0    128\n",
       "3.0     93\n",
       "4.0     88\n",
       "1.0     75\n",
       "0.0      2\n",
       "Name: Fedu, dtype: int64"
      ]
     },
     "metadata": {},
     "output_type": "display_data"
    },
    {
     "data": {
      "image/png": "[encoded data removed]",
      "text/plain": [
       "<Figure size 432x288 with 1 Axes>"
      ]
     },
     "metadata": {
      "needs_background": "light"
     },
     "output_type": "display_data"
    }
   ],
   "source": [
    "students = students.loc[students.Fedu <= 4]\n",
    "#display(students.info())\n",
    "students.Fedu.hist(bins=int(1+3.322*math.log10(len(students.Fedu))))\n",
    "#display(students.Fedu.value_counts())"
   ]
  },
  {
   "cell_type": "markdown",
   "metadata": {},
   "source": [
    "Распределение без выбросов и соответствует ожидаемому"
   ]
  },
  {
   "cell_type": "code",
   "execution_count": 16,
   "metadata": {},
   "outputs": [],
   "source": [
    "#cacao.bean_type = cacao.bean_type.apply(lambda x: None if pd.isnull(x) else None if x == 'nan' \n",
    "#                      else x if '(' not in x else x[:x.find('(')].strip())"
   ]
  },
  {
   "cell_type": "code",
   "execution_count": null,
   "metadata": {},
   "outputs": [],
   "source": []
  }
 ],
 "metadata": {
  "kernelspec": {
   "display_name": "Python 3",
   "language": "python",
   "name": "python3"
  },
  "language_info": {
   "codemirror_mode": {
    "name": "ipython",
    "version": 3
   },
   "file_extension": ".py",
   "mimetype": "text/x-python",
   "name": "python",
   "nbconvert_exporter": "python",
   "pygments_lexer": "ipython3",
   "version": "3.8.5"
  }
 },
 "nbformat": 4,
 "nbformat_minor": 4
}
